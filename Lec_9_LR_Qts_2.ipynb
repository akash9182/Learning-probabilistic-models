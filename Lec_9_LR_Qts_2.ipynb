{
 "cells": [
  {
   "cell_type": "code",
   "execution_count": null,
   "metadata": {},
   "outputs": [],
   "source": [
    "#### Ex_9_LR_Qts_2 ####"
   ]
  },
  {
   "cell_type": "code",
   "execution_count": 1,
   "metadata": {},
   "outputs": [],
   "source": [
    "using RDatasets;"
   ]
  },
  {
   "cell_type": "code",
   "execution_count": 2,
   "metadata": {},
   "outputs": [
    {
     "name": "stderr",
     "output_type": "stream",
     "text": [
      "WARNING: Method definition unix2zdt(Real) in module TimeZones at /home/jrun/.julia/v0.6/TimeZones/src/conversions.jl:122 overwritten in module RData at /home/jrun/.julia/v0.6/RData/src/convert.jl:201.\n"
     ]
    }
   ],
   "source": [
    "data = dropmissing(dataset(\"MASS\",\"cats\"));\n",
    "x = data[:,2];\n",
    "x = [ones(length(x)) x];\n",
    "y = Int.(data[:,1].==\"M\");"
   ]
  },
  {
   "cell_type": "code",
   "execution_count": 3,
   "metadata": {},
   "outputs": [
    {
     "name": "stdout",
     "output_type": "stream",
     "text": [
      "(144, 3)"
     ]
    }
   ],
   "source": [
    "print(size(data));"
   ]
  },
  {
   "cell_type": "code",
   "execution_count": 4,
   "metadata": {},
   "outputs": [
    {
     "data": {
      "text/plain": [
       "compute_p (generic function with 1 method)"
      ]
     },
     "execution_count": 4,
     "metadata": {},
     "output_type": "execute_result"
    }
   ],
   "source": [
    "function compute_p(x,b)\n",
    "p = 1./(1.+e.^(-x*b));\n",
    "return p;\n",
    "end"
   ]
  },
  {
   "cell_type": "code",
   "execution_count": 5,
   "metadata": {},
   "outputs": [
    {
     "data": {
      "text/plain": [
       "compute_l (generic function with 1 method)"
      ]
     },
     "execution_count": 5,
     "metadata": {},
     "output_type": "execute_result"
    }
   ],
   "source": [
    "function compute_l(x,y,b)\n",
    "p = compute_p(x,b);\n",
    "prob = y.*log.(p) + (1-y).*log.(1-p);\n",
    "l = sum(prob[.~isnan.(prob)]);\n",
    "return l;\n",
    "end"
   ]
  },
  {
   "cell_type": "code",
   "execution_count": 6,
   "metadata": {},
   "outputs": [],
   "source": [
    "b0 = collect(-40:40); #select the points along b0\n",
    "b1 = collect(-40:40); #select the points along b1\n",
    "heatm = zeros(81,81);\n",
    "for i=1:length(b0)\n",
    "for j=1:length(b1)\n",
    "heatm[i,j]= compute_l(x,y,[b0[i] b1[j]]');\n",
    "# computing l at each b0, b1 combination\n",
    "end\n",
    "end\n"
   ]
  },
  {
   "cell_type": "code",
   "execution_count": 9,
   "metadata": {},
   "outputs": [
    {
     "data": {
      "text/plain": [
       "newtons_lr (generic function with 1 method)"
      ]
     },
     "execution_count": 9,
     "metadata": {},
     "output_type": "execute_result"
    }
   ],
   "source": [
    "function newtons_lr(x,y,b)\n",
    "max_itr = 20; # maximum num. iterations\n",
    "#b = [-4 1]'; # random initialization\n",
    "for i=1:max_itr\n",
    "l = compute_l(x,y,b);\n",
    "print(i,\"\\n\");\n",
    "p = compute_p(x,b); print(\"p: \", p,\"\\n\");\n",
    "d1 = compute_first_derivatives(x,y,p); print(\"d1: \", d1,\"\\n\");\n",
    "d2 = compute_second_derivatives(x,y,p); print(\"d2: \", d2,\"\\n\");\n",
    "b_new = b.+inv(d2)*d1; print(\"b_new: \", b_new,\"\\n\");\n",
    "l_new = compute_l(x,y,b_new); print(\"l: \", l,\"\\n\");\n",
    "if(abs(l-l_new)<0.0000001) break; end;\n",
    "b = b_new;\n",
    "print(\"\\n\");\n",
    "end\n",
    "return b;\n",
    "end"
   ]
  },
  {
   "cell_type": "code",
   "execution_count": 10,
   "metadata": {},
   "outputs": [
    {
     "ename": "GR.GR3.GR3Exception",
     "evalue": "\u001b[91mGR3 error (gr3.c, l. 153): init failed\u001b[39m",
     "output_type": "error",
     "traceback": [
      "\u001b[91mGR3 error (gr3.c, l. 153): init failed\u001b[39m",
      "",
      "Stacktrace:",
      " [1] \u001b[1m_check_error\u001b[22m\u001b[22m\u001b[1m(\u001b[22m\u001b[22m\u001b[1m)\u001b[22m\u001b[22m at \u001b[1m/home/jrun/.julia/v0.6/GR/src/gr3.jl:73\u001b[22m\u001b[22m",
      " [2] \u001b[1msurface\u001b[22m\u001b[22m\u001b[1m(\u001b[22m\u001b[22m::Array{Int64,1}, ::Array{Int64,1}, ::Array{Float64,1}, ::Int64\u001b[1m)\u001b[22m\u001b[22m at \u001b[1m/home/jrun/.julia/v0.6/GR/src/gr3.jl:379\u001b[22m\u001b[22m",
      " [3] \u001b[1mgr_display\u001b[22m\u001b[22m\u001b[1m(\u001b[22m\u001b[22m::Plots.Subplot{Plots.GRBackend}, ::Measures.Length{:mm,Float64}, ::Measures.Length{:mm,Float64}, ::Array{Float64,1}\u001b[1m)\u001b[22m\u001b[22m at \u001b[1m/home/jrun/.julia/v0.6/Plots/src/backends/gr.jl:1097\u001b[22m\u001b[22m",
      " [4] \u001b[1mgr_display\u001b[22m\u001b[22m\u001b[1m(\u001b[22m\u001b[22m::Plots.Plot{Plots.GRBackend}, ::String\u001b[1m)\u001b[22m\u001b[22m at \u001b[1m/home/jrun/.julia/v0.6/Plots/src/backends/gr.jl:595\u001b[22m\u001b[22m",
      " [5] \u001b[1m_show\u001b[22m\u001b[22m\u001b[1m(\u001b[22m\u001b[22m::Base.AbstractIOBuffer{Array{UInt8,1}}, ::MIME{Symbol(\"image/svg+xml\")}, ::Plots.Plot{Plots.GRBackend}\u001b[1m)\u001b[22m\u001b[22m at \u001b[1m/home/jrun/.julia/v0.6/Plots/src/backends/gr.jl:1385\u001b[22m\u001b[22m",
      " [6] \u001b[1mshow\u001b[22m\u001b[22m\u001b[1m(\u001b[22m\u001b[22m::Base.AbstractIOBuffer{Array{UInt8,1}}, ::MIME{Symbol(\"image/svg+xml\")}, ::Plots.Plot{Plots.GRBackend}\u001b[1m)\u001b[22m\u001b[22m at \u001b[1m/home/jrun/.julia/v0.6/Plots/src/output.jl:210\u001b[22m\u001b[22m",
      " [7] \u001b[1m#sprint#228\u001b[22m\u001b[22m\u001b[1m(\u001b[22m\u001b[22m::Void, ::Function, ::Int64, ::Function, ::MIME{Symbol(\"image/svg+xml\")}, ::Vararg{Any,N} where N\u001b[1m)\u001b[22m\u001b[22m at \u001b[1m./strings/io.jl:66\u001b[22m\u001b[22m",
      " [8] \u001b[1mdisplay_dict\u001b[22m\u001b[22m\u001b[1m(\u001b[22m\u001b[22m::Plots.Plot{Plots.GRBackend}\u001b[1m)\u001b[22m\u001b[22m at \u001b[1m/home/jrun/.julia/v0.6/Plots/src/output.jl:296\u001b[22m\u001b[22m",
      " [9] \u001b[1m(::Compat.#inner#14{Array{Any,1},IJulia.#display_dict,Tuple{Plots.Plot{Plots.GRBackend}}})\u001b[22m\u001b[22m\u001b[1m(\u001b[22m\u001b[22m\u001b[1m)\u001b[22m\u001b[22m at \u001b[1m/mnt/juliabox/.julia/v0.6/Compat/src/Compat.jl:332\u001b[22m\u001b[22m",
      " [10] \u001b[1mexecute_request\u001b[22m\u001b[22m\u001b[1m(\u001b[22m\u001b[22m::ZMQ.Socket, ::IJulia.Msg\u001b[1m)\u001b[22m\u001b[22m at \u001b[1m/home/jrun/.julia/v0.6/IJulia/src/execute_request.jl:209\u001b[22m\u001b[22m",
      " [11] \u001b[1m(::Compat.#inner#14{Array{Any,1},IJulia.#execute_request,Tuple{ZMQ.Socket,IJulia.Msg}})\u001b[22m\u001b[22m\u001b[1m(\u001b[22m\u001b[22m\u001b[1m)\u001b[22m\u001b[22m at \u001b[1m/mnt/juliabox/.julia/v0.6/Compat/src/Compat.jl:332\u001b[22m\u001b[22m",
      " [12] \u001b[1meventloop\u001b[22m\u001b[22m\u001b[1m(\u001b[22m\u001b[22m::ZMQ.Socket\u001b[1m)\u001b[22m\u001b[22m at \u001b[1m/home/jrun/.julia/v0.6/IJulia/src/eventloop.jl:8\u001b[22m\u001b[22m",
      " [13] \u001b[1m(::IJulia.##15#18)\u001b[22m\u001b[22m\u001b[1m(\u001b[22m\u001b[22m\u001b[1m)\u001b[22m\u001b[22m at \u001b[1m./task.jl:335\u001b[22m\u001b[22m"
     ]
    }
   ],
   "source": [
    "using Plots;\n",
    "Plots.surface(b0,b1,heatm)\n",
    "#heatmap(rand(30, 30))"
   ]
  },
  {
   "cell_type": "code",
   "execution_count": 19,
   "metadata": {},
   "outputs": [
    {
     "ename": "LoadError",
     "evalue": "\u001b[91mUndefVarError: draw not defined\u001b[39m",
     "output_type": "error",
     "traceback": [
      "\u001b[91mUndefVarError: draw not defined\u001b[39m",
      "",
      "Stacktrace:",
      " [1] \u001b[1minclude_string\u001b[22m\u001b[22m\u001b[1m(\u001b[22m\u001b[22m::String, ::String\u001b[1m)\u001b[22m\u001b[22m at \u001b[1m./loading.jl:522\u001b[22m\u001b[22m"
     ]
    }
   ],
   "source": []
  },
  {
   "cell_type": "code",
   "execution_count": null,
   "metadata": {},
   "outputs": [],
   "source": []
  }
 ],
 "metadata": {
  "kernelspec": {
   "display_name": "Julia 0.6.2",
   "language": "julia",
   "name": "julia-0.6"
  },
  "language_info": {
   "file_extension": ".jl",
   "mimetype": "application/julia",
   "name": "julia",
   "version": "0.6.2"
  }
 },
 "nbformat": 4,
 "nbformat_minor": 2
}
